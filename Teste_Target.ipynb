{
  "nbformat": 4,
  "nbformat_minor": 0,
  "metadata": {
    "colab": {
      "provenance": []
    },
    "kernelspec": {
      "name": "python3",
      "display_name": "Python 3"
    },
    "language_info": {
      "name": "python"
    }
  },
  "cells": [
    {
      "cell_type": "markdown",
      "source": [
        "# **Teste**\n",
        "\n",
        "**Participante:** Rivaldo Correia Santos Junior"
      ],
      "metadata": {
        "id": "_bAAMo9aL5Dd"
      }
    },
    {
      "cell_type": "markdown",
      "source": [
        "**Q1: Qual será o valor da variável SOMA no código fornecido?**"
      ],
      "metadata": {
        "id": "dap0AZcaJwki"
      }
    },
    {
      "cell_type": "code",
      "execution_count": 1,
      "metadata": {
        "colab": {
          "base_uri": "https://localhost:8080/"
        },
        "id": "alZzApOZJurk",
        "outputId": "01bd45e5-e6d3-42ee-b04e-a1b2519b6fcb"
      },
      "outputs": [
        {
          "output_type": "stream",
          "name": "stdout",
          "text": [
            "91\n"
          ]
        }
      ],
      "source": [
        "# Definindo variáveis e valores\n",
        "indice = 13\n",
        "soma = 0\n",
        "k = 0\n",
        "\n",
        "# Condição While\n",
        "while k < indice:\n",
        "    k = k + 1\n",
        "    soma = soma + k\n",
        "\n",
        "# Imprimindo o resultado\n",
        "print(soma)"
      ]
    },
    {
      "cell_type": "markdown",
      "source": [
        "**Q2: Verificando se um número pertence à sequência de Fibonacci**"
      ],
      "metadata": {
        "id": "9wAgu4ktKHlY"
      }
    },
    {
      "cell_type": "code",
      "source": [
        "# Criando uma função para verificar se o número pertence a sequência de Fibonacci\n",
        "def pertence_fibonacci(num):\n",
        "    a, b = 0, 1\n",
        "    while b < num:\n",
        "        a, b = b, a + b\n",
        "    return b == num or num == 0\n",
        "\n",
        "# Input para adicionar número e verificar se atende as condições\n",
        "numero = int(input(\"Informe um número: \"))\n",
        "if pertence_fibonacci(numero):\n",
        "    print(f\"O número {numero} pertence à sequência de Fibonacci.\")\n",
        "else:\n",
        "    print(f\"O número {numero} não pertence à sequência de Fibonacci.\")"
      ],
      "metadata": {
        "colab": {
          "base_uri": "https://localhost:8080/"
        },
        "id": "fq4XQUkXKE9n",
        "outputId": "392900d6-7dd3-4d72-c5de-2d4017e95c21"
      },
      "execution_count": 2,
      "outputs": [
        {
          "output_type": "stream",
          "name": "stdout",
          "text": [
            "Informe um número: 95\n",
            "O número 95 não pertence à sequência de Fibonacci.\n"
          ]
        }
      ]
    },
    {
      "cell_type": "markdown",
      "source": [
        "**Q3: Calculando o menor, maior e a média dos faturamentos mensais**"
      ],
      "metadata": {
        "id": "qxT6eMnUKtaF"
      }
    },
    {
      "cell_type": "code",
      "source": [
        "import json\n",
        "\n",
        "# Carregando o arquivo JSON\n",
        "with open('/content/dados.json', 'r') as file:\n",
        "    faturamento = json.load(file)\n",
        "\n",
        "# Filtrando os dias com faturamento diferente de 0\n",
        "faturamento_valido = [dia['valor'] for dia in faturamento if dia['valor'] > 0]\n",
        "\n",
        "# Calculando o menor, maior e média do faturamento\n",
        "menor_faturamento = min(faturamento_valido)\n",
        "maior_faturamento = max(faturamento_valido)\n",
        "media_mensal = sum(faturamento_valido) / len(faturamento_valido)\n",
        "\n",
        "# Contando os dias com faturamento acima da média\n",
        "dias_acima_media = sum(1 for valor in faturamento_valido if valor > media_mensal)\n",
        "\n",
        "\n",
        "# Exibindo os resultados\n",
        "print(f\"Menor valor de faturamento: {menor_faturamento}\")\n",
        "print(f\"Maior valor de faturamento: {maior_faturamento}\")\n",
        "print(f\"Número de dias com faturamento acima da média: {dias_acima_media}\")"
      ],
      "metadata": {
        "colab": {
          "base_uri": "https://localhost:8080/"
        },
        "id": "wwc5FtW3Ks0m",
        "outputId": "dfac94f4-49dc-4a1a-d46b-f038b0109515"
      },
      "execution_count": 3,
      "outputs": [
        {
          "output_type": "stream",
          "name": "stdout",
          "text": [
            "Menor valor de faturamento: 373.7838\n",
            "Maior valor de faturamento: 48924.2448\n",
            "Número de dias com faturamento acima da média: 10\n"
          ]
        }
      ]
    },
    {
      "cell_type": "markdown",
      "source": [
        "**Q4: Calculando o percentual de representação de faturamento por estado**"
      ],
      "metadata": {
        "id": "LX_5qDSvLZ0Z"
      }
    },
    {
      "cell_type": "code",
      "source": [
        "# Dicionários com os dados\n",
        "faturamento_estados = {\n",
        "    'SP': 67836.43,\n",
        "    'RJ': 36678.66,\n",
        "    'MG': 29229.88,\n",
        "    'ES': 27165.48,\n",
        "    'Outros': 19849.53\n",
        "}\n",
        "\n",
        "# Calculando o faturamento\n",
        "faturamento_total = sum(faturamento_estados.values())\n",
        "\n",
        "for estado, valor in faturamento_estados.items():\n",
        "    percentual = (valor / faturamento_total) * 100\n",
        "    print(f\"{estado}: {percentual:.2f}%\")"
      ],
      "metadata": {
        "colab": {
          "base_uri": "https://localhost:8080/"
        },
        "id": "gTOHOyhkKpfs",
        "outputId": "5df61cfc-0c91-4fd8-e9c5-5b24fbcff7eb"
      },
      "execution_count": 4,
      "outputs": [
        {
          "output_type": "stream",
          "name": "stdout",
          "text": [
            "SP: 37.53%\n",
            "RJ: 20.29%\n",
            "MG: 16.17%\n",
            "ES: 15.03%\n",
            "Outros: 10.98%\n"
          ]
        }
      ]
    },
    {
      "cell_type": "markdown",
      "source": [
        "**Q5: Invertendo os caracteres de uma string**"
      ],
      "metadata": {
        "id": "IyCgo-3JLoLU"
      }
    },
    {
      "cell_type": "code",
      "source": [
        "# Criando uma função\n",
        "def inverter_string(s):\n",
        "    invertida = ''\n",
        "    for char in s:\n",
        "        invertida = char + invertida\n",
        "    return invertida\n",
        "\n",
        "# Criando input para adicionar uma palavra\n",
        "string = input(\"Informe uma string: \")\n",
        "print(f\"String invertida: {inverter_string(string)}\")"
      ],
      "metadata": {
        "colab": {
          "base_uri": "https://localhost:8080/"
        },
        "id": "YFcO4Q4cLlWK",
        "outputId": "88a609bc-f3ab-4c62-abb9-f52cc1c10e38"
      },
      "execution_count": 5,
      "outputs": [
        {
          "output_type": "stream",
          "name": "stdout",
          "text": [
            "Informe uma string: Rivaldo Correia\n",
            "String invertida: aierroC odlaviR\n"
          ]
        }
      ]
    }
  ]
}